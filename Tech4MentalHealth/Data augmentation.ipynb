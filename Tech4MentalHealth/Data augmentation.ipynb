{
 "cells": [
  {
   "cell_type": "code",
   "execution_count": 1,
   "metadata": {},
   "outputs": [
    {
     "data": {
      "text/plain": [
       "'C:\\\\Users\\\\thanisb\\\\Documents\\\\Competition\\\\Zindi\\\\Tech4MentalHealth\\\\Notebook'"
      ]
     },
     "execution_count": 1,
     "metadata": {},
     "output_type": "execute_result"
    }
   ],
   "source": [
    "import pandas as pd\n",
    "import numpy as np\n",
    "\n",
    "import nltk\n",
    "import gensim\n",
    "from textaugment import Word2vec, Wordnet, EDA\n",
    "from nltk.corpus import wordnet\n",
    "\n",
    "import os \n",
    "os.getcwd()"
   ]
  },
  {
   "cell_type": "markdown",
   "metadata": {},
   "source": [
    "# Reading file"
   ]
  },
  {
   "cell_type": "code",
   "execution_count": 58,
   "metadata": {},
   "outputs": [
    {
     "data": {
      "text/html": [
       "<div>\n",
       "<style scoped>\n",
       "    .dataframe tbody tr th:only-of-type {\n",
       "        vertical-align: middle;\n",
       "    }\n",
       "\n",
       "    .dataframe tbody tr th {\n",
       "        vertical-align: top;\n",
       "    }\n",
       "\n",
       "    .dataframe thead th {\n",
       "        text-align: right;\n",
       "    }\n",
       "</style>\n",
       "<table border=\"1\" class=\"dataframe\">\n",
       "  <thead>\n",
       "    <tr style=\"text-align: right;\">\n",
       "      <th></th>\n",
       "      <th>ID</th>\n",
       "      <th>text</th>\n",
       "      <th>label</th>\n",
       "    </tr>\n",
       "  </thead>\n",
       "  <tbody>\n",
       "    <tr>\n",
       "      <th>0</th>\n",
       "      <td>SUAVK39Z</td>\n",
       "      <td>i feel that it was better i die am happy</td>\n",
       "      <td>Depression</td>\n",
       "    </tr>\n",
       "    <tr>\n",
       "      <th>1</th>\n",
       "      <td>9JDAGUV3</td>\n",
       "      <td>why do i get hallucinations ?</td>\n",
       "      <td>Drugs</td>\n",
       "    </tr>\n",
       "    <tr>\n",
       "      <th>2</th>\n",
       "      <td>419WR1LQ</td>\n",
       "      <td>i am stressed due to lack of financial support...</td>\n",
       "      <td>Depression</td>\n",
       "    </tr>\n",
       "    <tr>\n",
       "      <th>3</th>\n",
       "      <td>6UY7DX6Q</td>\n",
       "      <td>why is life important ?</td>\n",
       "      <td>Suicide</td>\n",
       "    </tr>\n",
       "    <tr>\n",
       "      <th>4</th>\n",
       "      <td>FYC0FTFB</td>\n",
       "      <td>how could i be helped to go through the depres...</td>\n",
       "      <td>Depression</td>\n",
       "    </tr>\n",
       "    <tr>\n",
       "      <th>...</th>\n",
       "      <td>...</td>\n",
       "      <td>...</td>\n",
       "      <td>...</td>\n",
       "    </tr>\n",
       "    <tr>\n",
       "      <th>611</th>\n",
       "      <td>BOHSNXCN</td>\n",
       "      <td>what should i do to stop alcoholism ?</td>\n",
       "      <td>Alcohol</td>\n",
       "    </tr>\n",
       "    <tr>\n",
       "      <th>612</th>\n",
       "      <td>GVDXRQPY</td>\n",
       "      <td>how to become my old self again</td>\n",
       "      <td>Suicide</td>\n",
       "    </tr>\n",
       "    <tr>\n",
       "      <th>613</th>\n",
       "      <td>IO4JHIQS</td>\n",
       "      <td>how can someone stop it ?</td>\n",
       "      <td>Alcohol</td>\n",
       "    </tr>\n",
       "    <tr>\n",
       "      <th>614</th>\n",
       "      <td>1DS3P1XO</td>\n",
       "      <td>i feel unworthy</td>\n",
       "      <td>Depression</td>\n",
       "    </tr>\n",
       "    <tr>\n",
       "      <th>615</th>\n",
       "      <td>ORF71PVQ</td>\n",
       "      <td>i feel so discouraged with life</td>\n",
       "      <td>Depression</td>\n",
       "    </tr>\n",
       "  </tbody>\n",
       "</table>\n",
       "<p>616 rows × 3 columns</p>\n",
       "</div>"
      ],
      "text/plain": [
       "           ID                                               text       label\n",
       "0    SUAVK39Z           i feel that it was better i die am happy  Depression\n",
       "1    9JDAGUV3                      why do i get hallucinations ?       Drugs\n",
       "2    419WR1LQ  i am stressed due to lack of financial support...  Depression\n",
       "3    6UY7DX6Q                            why is life important ?     Suicide\n",
       "4    FYC0FTFB  how could i be helped to go through the depres...  Depression\n",
       "..        ...                                                ...         ...\n",
       "611  BOHSNXCN              what should i do to stop alcoholism ?     Alcohol\n",
       "612  GVDXRQPY                    how to become my old self again     Suicide\n",
       "613  IO4JHIQS                          how can someone stop it ?     Alcohol\n",
       "614  1DS3P1XO                                    i feel unworthy  Depression\n",
       "615  ORF71PVQ                    i feel so discouraged with life  Depression\n",
       "\n",
       "[616 rows x 3 columns]"
      ]
     },
     "execution_count": 58,
     "metadata": {},
     "output_type": "execute_result"
    }
   ],
   "source": [
    "train_DF = pd.read_csv('../data/train_corrected_3.csv')\n",
    "train_DF"
   ]
  },
  {
   "cell_type": "markdown",
   "metadata": {},
   "source": [
    "# Checking Word2Vec, Wordnet, EDA synonym replacement. "
   ]
  },
  {
   "cell_type": "code",
   "execution_count": 6,
   "metadata": {},
   "outputs": [
    {
     "data": {
      "text/plain": [
       "'i tcm_mon emphasized due to lacking of banking assistance'"
      ]
     },
     "execution_count": 6,
     "metadata": {},
     "output_type": "execute_result"
    }
   ],
   "source": [
    "# Download Word2Vec model from \n",
    "# https://drive.google.com/file/d/0B7XkCwpI5KDYNlNUTTlSS21pQmM/edit\n",
    "\n",
    "model = gensim.models.KeyedVectors.load_word2vec_format('../w2v_model/GoogleNews-vectors-negative300.bin.gz', binary=True)\n",
    "\n",
    "w2v_aug = Word2vec(model = model,  runs=1)\n",
    "w2v_aug.augment(\"i am stressed due to lack of financial support\")"
   ]
  },
  {
   "cell_type": "code",
   "execution_count": 50,
   "metadata": {},
   "outputs": [
    {
     "data": {
      "text/plain": [
       "'iodin am stressed due to lack of financial support'"
      ]
     },
     "execution_count": 50,
     "metadata": {},
     "output_type": "execute_result"
    }
   ],
   "source": [
    "wordnet_aug = Wordnet(v=False ,n=True, p=0.5)\n",
    "wordnet_aug.augment('I am stressed due to lack of financial support')"
   ]
  },
  {
   "cell_type": "code",
   "execution_count": 61,
   "metadata": {},
   "outputs": [
    {
     "data": {
      "text/plain": [
       "'Is bhang estimable'"
      ]
     },
     "execution_count": 61,
     "metadata": {},
     "output_type": "execute_result"
    }
   ],
   "source": [
    "EDA_aug = EDA()\n",
    "EDA_aug.synonym_replacement(\"Is bhang good\")"
   ]
  },
  {
   "cell_type": "markdown",
   "metadata": {},
   "source": [
    "# Using Synonym replacement, Random deletion, Random Swap in the EDA augmentation"
   ]
  },
  {
   "cell_type": "code",
   "execution_count": null,
   "metadata": {},
   "outputs": [],
   "source": [
    "ID = []\n",
    "orig_text = []\n",
    "aug_EDA_synonym_replacement = []\n",
    "aug_EDA_random_deletion = []\n",
    "aug_EDA_random_swap = []\n",
    "aug_EDA_random_insertion = []\n",
    "label = []\n",
    "\n",
    "for row, data in train_DF.iterrows():\n",
    "    \n",
    "    aug = EDA_aug.synonym_replacement(data['text'])\n",
    "    aug_EDA_synonym_replacement.append(aug)\n",
    "    \n",
    "    aug = EDA_aug.random_deletion(data['text'])\n",
    "    aug_EDA_random_deletion.append(aug)\n",
    "    \n",
    "    aug = EDA_aug.random_swap(data['text'])\n",
    "    aug_EDA_random_swap.append(aug)\n",
    "    \n",
    "    aug = EDA_aug.random_insertion(data['text'])\n",
    "    aug_EDA_random_insertion.append(aug)\n",
    "    \n",
    "    ID.append(data['ID'])\n",
    "    orig_text.append(data['text'])\n",
    "    label.append(data['label'])"
   ]
  },
  {
   "cell_type": "code",
   "execution_count": 86,
   "metadata": {},
   "outputs": [
    {
     "data": {
      "text/html": [
       "<div>\n",
       "<style scoped>\n",
       "    .dataframe tbody tr th:only-of-type {\n",
       "        vertical-align: middle;\n",
       "    }\n",
       "\n",
       "    .dataframe tbody tr th {\n",
       "        vertical-align: top;\n",
       "    }\n",
       "\n",
       "    .dataframe thead th {\n",
       "        text-align: right;\n",
       "    }\n",
       "</style>\n",
       "<table border=\"1\" class=\"dataframe\">\n",
       "  <thead>\n",
       "    <tr style=\"text-align: right;\">\n",
       "      <th></th>\n",
       "      <th>Orig_text</th>\n",
       "      <th>aug_EDA_synonym_replacement</th>\n",
       "      <th>aug_EDA_random_deletion</th>\n",
       "      <th>aug_EDA_random_swap</th>\n",
       "    </tr>\n",
       "  </thead>\n",
       "  <tbody>\n",
       "    <tr>\n",
       "      <th>0</th>\n",
       "      <td>i feel that it was better i die am happy</td>\n",
       "      <td>i feel that it was better i choke am happy</td>\n",
       "      <td>i feel that it was better die am happy</td>\n",
       "      <td>i better that it was feel i die am happy</td>\n",
       "    </tr>\n",
       "    <tr>\n",
       "      <th>1</th>\n",
       "      <td>why do i get hallucinations ?</td>\n",
       "      <td>why do i get hallucination ?</td>\n",
       "      <td>why do get hallucinations ?</td>\n",
       "      <td>why do i hallucinations get ?</td>\n",
       "    </tr>\n",
       "    <tr>\n",
       "      <th>2</th>\n",
       "      <td>i am stressed due to lack of financial support...</td>\n",
       "      <td>i am stressed due to lack of financial stomach...</td>\n",
       "      <td>i am stressed due to lack of financial support...</td>\n",
       "      <td>i am stressed school to lack of financial supp...</td>\n",
       "    </tr>\n",
       "    <tr>\n",
       "      <th>3</th>\n",
       "      <td>why is life important ?</td>\n",
       "      <td>why is aliveness important ?</td>\n",
       "      <td>why is life important ?</td>\n",
       "      <td>why is important life ?</td>\n",
       "    </tr>\n",
       "    <tr>\n",
       "      <th>4</th>\n",
       "      <td>how could i be helped to go through the depres...</td>\n",
       "      <td>how could i be helped to croak through the dep...</td>\n",
       "      <td>could i be to through depression ?</td>\n",
       "      <td>how could i be helped to go depression the thr...</td>\n",
       "    </tr>\n",
       "    <tr>\n",
       "      <th>...</th>\n",
       "      <td>...</td>\n",
       "      <td>...</td>\n",
       "      <td>...</td>\n",
       "      <td>...</td>\n",
       "    </tr>\n",
       "    <tr>\n",
       "      <th>611</th>\n",
       "      <td>what should i do to stop alcoholism ?</td>\n",
       "      <td>what should i do to stop inebriation ?</td>\n",
       "      <td>what should i do to stop alcoholism ?</td>\n",
       "      <td>should what i do to stop alcoholism ?</td>\n",
       "    </tr>\n",
       "    <tr>\n",
       "      <th>612</th>\n",
       "      <td>how to become my old self again</td>\n",
       "      <td>how to become my quondam self again</td>\n",
       "      <td>how to become my old self again</td>\n",
       "      <td>how to become my again self old</td>\n",
       "    </tr>\n",
       "    <tr>\n",
       "      <th>613</th>\n",
       "      <td>how can someone stop it ?</td>\n",
       "      <td>how can someone stopover it ?</td>\n",
       "      <td>how can someone stop it ?</td>\n",
       "      <td>how can someone ? it stop</td>\n",
       "    </tr>\n",
       "    <tr>\n",
       "      <th>614</th>\n",
       "      <td>i feel unworthy</td>\n",
       "      <td>i feel worthless</td>\n",
       "      <td>i feel</td>\n",
       "      <td>feel i unworthy</td>\n",
       "    </tr>\n",
       "    <tr>\n",
       "      <th>615</th>\n",
       "      <td>i feel so discouraged with life</td>\n",
       "      <td>i feel so warn with life</td>\n",
       "      <td>i feel discouraged with life</td>\n",
       "      <td>feel i so discouraged with life</td>\n",
       "    </tr>\n",
       "  </tbody>\n",
       "</table>\n",
       "<p>616 rows × 4 columns</p>\n",
       "</div>"
      ],
      "text/plain": [
       "                                             Orig_text  \\\n",
       "0             i feel that it was better i die am happy   \n",
       "1                        why do i get hallucinations ?   \n",
       "2    i am stressed due to lack of financial support...   \n",
       "3                              why is life important ?   \n",
       "4    how could i be helped to go through the depres...   \n",
       "..                                                 ...   \n",
       "611              what should i do to stop alcoholism ?   \n",
       "612                    how to become my old self again   \n",
       "613                          how can someone stop it ?   \n",
       "614                                    i feel unworthy   \n",
       "615                    i feel so discouraged with life   \n",
       "\n",
       "                           aug_EDA_synonym_replacement  \\\n",
       "0           i feel that it was better i choke am happy   \n",
       "1                         why do i get hallucination ?   \n",
       "2    i am stressed due to lack of financial stomach...   \n",
       "3                         why is aliveness important ?   \n",
       "4    how could i be helped to croak through the dep...   \n",
       "..                                                 ...   \n",
       "611             what should i do to stop inebriation ?   \n",
       "612                how to become my quondam self again   \n",
       "613                      how can someone stopover it ?   \n",
       "614                                   i feel worthless   \n",
       "615                           i feel so warn with life   \n",
       "\n",
       "                               aug_EDA_random_deletion  \\\n",
       "0               i feel that it was better die am happy   \n",
       "1                          why do get hallucinations ?   \n",
       "2    i am stressed due to lack of financial support...   \n",
       "3                              why is life important ?   \n",
       "4                   could i be to through depression ?   \n",
       "..                                                 ...   \n",
       "611              what should i do to stop alcoholism ?   \n",
       "612                    how to become my old self again   \n",
       "613                          how can someone stop it ?   \n",
       "614                                             i feel   \n",
       "615                       i feel discouraged with life   \n",
       "\n",
       "                                   aug_EDA_random_swap  \n",
       "0             i better that it was feel i die am happy  \n",
       "1                        why do i hallucinations get ?  \n",
       "2    i am stressed school to lack of financial supp...  \n",
       "3                              why is important life ?  \n",
       "4    how could i be helped to go depression the thr...  \n",
       "..                                                 ...  \n",
       "611              should what i do to stop alcoholism ?  \n",
       "612                    how to become my again self old  \n",
       "613                          how can someone ? it stop  \n",
       "614                                    feel i unworthy  \n",
       "615                    feel i so discouraged with life  \n",
       "\n",
       "[616 rows x 4 columns]"
      ]
     },
     "execution_count": 86,
     "metadata": {},
     "output_type": "execute_result"
    }
   ],
   "source": [
    "sample = pd.DataFrame({'Orig_text': orig_text,\n",
    "                       'aug_EDA_synonym_replacement': aug_EDA_synonym_replacement,\n",
    "                       'aug_EDA_random_deletion': aug_EDA_random_deletion,\n",
    "                       'aug_EDA_random_swap': aug_EDA_random_swap\n",
    "                       #,'aug_EDA_random_insertion': aug_EDA_random_insertion\n",
    "                      })\n",
    "                       \n",
    "sample"
   ]
  },
  {
   "cell_type": "code",
   "execution_count": 94,
   "metadata": {},
   "outputs": [],
   "source": [
    "final_text = orig_text + aug_EDA_synonym_replacement + aug_EDA_random_deletion + aug_EDA_random_swap\n",
    "len(final)\n",
    "final_ID = ID*4\n",
    "final_label = label*4\n",
    "\n",
    "final_DF = pd.DataFrame({'ID' : final_ID,\n",
    "                         'text' : final_text,\n",
    "                         'label' :final_label})\n",
    "\n",
    "final_DF.to_csv('../data/train_corrected_4.csv', index = False)"
   ]
  },
  {
   "cell_type": "markdown",
   "metadata": {},
   "source": [
    "# Using synsets replacement in the wordnet"
   ]
  },
  {
   "cell_type": "code",
   "execution_count": 139,
   "metadata": {
    "scrolled": true
   },
   "outputs": [
    {
     "name": "stdout",
     "output_type": "stream",
     "text": [
      "(616, 3)\n",
      "(12031, 3)\n",
      "(7939, 3)\n"
     ]
    }
   ],
   "source": [
    "# Data augumentaion using wornet synonym method\n",
    "def word_net_similarity(sentence):\n",
    "    \n",
    "    sent_split = sentence.split()\n",
    "    aug_sent = [sentence]\n",
    "    for word in sent_split:\n",
    "        #print(word)\n",
    "        if len(word)>4:\n",
    "            for syn in wordnet.synsets(word): \n",
    "                for l in syn.lemmas(): \n",
    "                    #print(\"----\", l.name())\n",
    "                    temp_sent = sent_split.copy()\n",
    "                    temp_sent[temp_sent.index(word)] = l.name().replace(\"_\", \" \").replace(\"-\", \" \")\n",
    "                    #print(temp_sent)\n",
    "                    aug_sent.append(\" \".join(temp_sent))\n",
    "    #print(aug_sent)                    \n",
    "    #print(\"\")\n",
    "    return aug_sent\n",
    "\n",
    "aug_final = []\n",
    "label_final = []\n",
    "final_ID = []\n",
    "for row, data in train_DF.iterrows():\n",
    "    aug = word_net_similarity(data['text'])\n",
    "    label = [data['label']] * len(aug)\n",
    "    ID = [data['ID']] * len(aug)\n",
    "    aug_final.extend(aug)\n",
    "    label_final.extend(label)\n",
    "    final_ID.extend(ID)\n",
    "len(aug_final), len(label_final)\n",
    "\n",
    "\n",
    "aug_DF = pd.DataFrame({\"ID\" : final_ID,\n",
    "                       \"text\":aug_final,\n",
    "                       \"label\":label_final})\n",
    "\n",
    "print(train_DF.shape)\n",
    "print(aug_DF.shape)\n",
    "aug_DF = aug_DF.drop_duplicates()\n",
    "print(aug_DF.shape)"
   ]
  },
  {
   "cell_type": "code",
   "execution_count": 140,
   "metadata": {},
   "outputs": [],
   "source": [
    "aug_DF.to_csv('../data/train_corrected_4.csv', index = False)"
   ]
  }
 ],
 "metadata": {
  "kernelspec": {
   "display_name": "Python 3",
   "language": "python",
   "name": "python3"
  },
  "language_info": {
   "codemirror_mode": {
    "name": "ipython",
    "version": 3
   },
   "file_extension": ".py",
   "mimetype": "text/x-python",
   "name": "python",
   "nbconvert_exporter": "python",
   "pygments_lexer": "ipython3",
   "version": "3.7.6"
  }
 },
 "nbformat": 4,
 "nbformat_minor": 4
}
